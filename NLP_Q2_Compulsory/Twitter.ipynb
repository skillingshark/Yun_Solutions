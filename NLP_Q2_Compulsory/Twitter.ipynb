{
 "cells": [
  {
   "cell_type": "code",
   "execution_count": 51,
   "metadata": {},
   "outputs": [],
   "source": [
    "from selenium import webdriver\n",
    "from selenium.webdriver.common.by import By\n",
    "import re \n",
    "import time \n",
    "import pandas as pd\n",
    "from dotenv import load_dotenv\n",
    "import os\n",
    "import re\n",
    "from datetime import datetime, timedelta"
   ]
  },
  {
   "cell_type": "code",
   "execution_count": 38,
   "metadata": {},
   "outputs": [],
   "source": [
    "driver = webdriver.Chrome()\n",
    "\n",
    "url = 'https://twitter.com/search?q=Reliance%20Industries%20Ltd.&src=typed_query&f=live'\n",
    "driver.get(url)"
   ]
  },
  {
   "cell_type": "code",
   "execution_count": 39,
   "metadata": {},
   "outputs": [],
   "source": [
    "driver.execute_script(\"window.scrollTo(0, document.body.scrollHeight);\")"
   ]
  },
  {
   "cell_type": "code",
   "execution_count": 40,
   "metadata": {},
   "outputs": [
    {
     "name": "stdout",
     "output_type": "stream",
     "text": [
      "1 [None]\n",
      "2 [None, None]\n",
      "3 [None, None, None]\n",
      "4 [None, None, None, None]\n",
      "5 [None, None, None, None, None]\n",
      "6 [None, None, None, None, None, None]\n",
      "7 [None, None, None, None, None, None, None]\n",
      "13 [None, None, None, None, None, None, None, '14h', '18h', 'In this Videobite, Patrick Park, Business Development Manager at UPM Raflatac, explains the company’s views of the label and package printing industry. The industry currently has serval hot topics from automation to product innovation and much more.', '21h', '22h', None]\n",
      "23 [None, None, None, None, None, None, None, '14h', '18h', 'In this Videobite, Patrick Park, Business Development Manager at UPM Raflatac, explains the company’s views of the label and package printing industry. The industry currently has serval hot topics from automation to product innovation and much more.', '21h', '22h', None, '14h', '18h', 'In this Videobite, Patrick Park, Business Development Manager at UPM Raflatac, explains the company’s views of the label and package printing industry. The industry currently has serval hot topics from automation to product innovation and much more.', '21h', '22h', 'Admin', 'Mar 15', 'Mar 15', 'Mar 15', None]\n",
      "33 [None, None, None, None, None, None, None, '14h', '18h', 'In this Videobite, Patrick Park, Business Development Manager at UPM Raflatac, explains the company’s views of the label and package printing industry. The industry currently has serval hot topics from automation to product innovation and much more.', '21h', '22h', None, '14h', '18h', 'In this Videobite, Patrick Park, Business Development Manager at UPM Raflatac, explains the company’s views of the label and package printing industry. The industry currently has serval hot topics from automation to product innovation and much more.', '21h', '22h', 'Admin', 'Mar 15', 'Mar 15', 'Mar 15', None, '21h', '22h', 'Admin', 'Mar 15', 'Mar 15', 'Mar 15', 'Subscribe to Premium+ to go ad-free in For You.', 'Mar 15', 'Mar 15', None]\n",
      "44 [None, None, None, None, None, None, None, '14h', '18h', 'In this Videobite, Patrick Park, Business Development Manager at UPM Raflatac, explains the company’s views of the label and package printing industry. The industry currently has serval hot topics from automation to product innovation and much more.', '21h', '22h', None, '14h', '18h', 'In this Videobite, Patrick Park, Business Development Manager at UPM Raflatac, explains the company’s views of the label and package printing industry. The industry currently has serval hot topics from automation to product innovation and much more.', '21h', '22h', 'Admin', 'Mar 15', 'Mar 15', 'Mar 15', None, '21h', '22h', 'Admin', 'Mar 15', 'Mar 15', 'Mar 15', 'Subscribe to Premium+ to go ad-free in For You.', 'Mar 15', 'Mar 15', None, 'Mar 15', 'Mar 15', 'Mar 15', 'Subscribe to Premium+ to go ad-free in For You.', 'Mar 15', 'Mar 15', 'Mar 15', 'Mar 15', 'Mar 15', 'Mar 15', None]\n",
      "55 [None, None, None, None, None, None, None, '14h', '18h', 'In this Videobite, Patrick Park, Business Development Manager at UPM Raflatac, explains the company’s views of the label and package printing industry. The industry currently has serval hot topics from automation to product innovation and much more.', '21h', '22h', None, '14h', '18h', 'In this Videobite, Patrick Park, Business Development Manager at UPM Raflatac, explains the company’s views of the label and package printing industry. The industry currently has serval hot topics from automation to product innovation and much more.', '21h', '22h', 'Admin', 'Mar 15', 'Mar 15', 'Mar 15', None, '21h', '22h', 'Admin', 'Mar 15', 'Mar 15', 'Mar 15', 'Subscribe to Premium+ to go ad-free in For You.', 'Mar 15', 'Mar 15', None, 'Mar 15', 'Mar 15', 'Mar 15', 'Subscribe to Premium+ to go ad-free in For You.', 'Mar 15', 'Mar 15', 'Mar 15', 'Mar 15', 'Mar 15', 'Mar 15', None, 'Subscribe to Premium+ to go ad-free in For You.', 'Mar 15', 'Mar 15', 'Mar 15', 'Mar 15', 'Mar 15', 'Mar 15', 'Mar 15', 'Mar 15', \"Don't overpay on Amazon ever again! This Amazon shopping hack is like Prime Day on steroids.\", None]\n",
      "66 [None, None, None, None, None, None, None, '14h', '18h', 'In this Videobite, Patrick Park, Business Development Manager at UPM Raflatac, explains the company’s views of the label and package printing industry. The industry currently has serval hot topics from automation to product innovation and much more.', '21h', '22h', None, '14h', '18h', 'In this Videobite, Patrick Park, Business Development Manager at UPM Raflatac, explains the company’s views of the label and package printing industry. The industry currently has serval hot topics from automation to product innovation and much more.', '21h', '22h', 'Admin', 'Mar 15', 'Mar 15', 'Mar 15', None, '21h', '22h', 'Admin', 'Mar 15', 'Mar 15', 'Mar 15', 'Subscribe to Premium+ to go ad-free in For You.', 'Mar 15', 'Mar 15', None, 'Mar 15', 'Mar 15', 'Mar 15', 'Subscribe to Premium+ to go ad-free in For You.', 'Mar 15', 'Mar 15', 'Mar 15', 'Mar 15', 'Mar 15', 'Mar 15', None, 'Subscribe to Premium+ to go ad-free in For You.', 'Mar 15', 'Mar 15', 'Mar 15', 'Mar 15', 'Mar 15', 'Mar 15', 'Mar 15', 'Mar 15', \"Don't overpay on Amazon ever again! This Amazon shopping hack is like Prime Day on steroids.\", None, 'Mar 15', 'Mar 15', 'Mar 15', 'Mar 15', 'Mar 15', \"Don't overpay on Amazon ever again! This Amazon shopping hack is like Prime Day on steroids.\", 'Mar 15', 'Mar 15', 'Mar 15', 'Mar 15', None]\n",
      "75 [None, None, None, None, None, None, None, '14h', '18h', 'In this Videobite, Patrick Park, Business Development Manager at UPM Raflatac, explains the company’s views of the label and package printing industry. The industry currently has serval hot topics from automation to product innovation and much more.', '21h', '22h', None, '14h', '18h', 'In this Videobite, Patrick Park, Business Development Manager at UPM Raflatac, explains the company’s views of the label and package printing industry. The industry currently has serval hot topics from automation to product innovation and much more.', '21h', '22h', 'Admin', 'Mar 15', 'Mar 15', 'Mar 15', None, '21h', '22h', 'Admin', 'Mar 15', 'Mar 15', 'Mar 15', 'Subscribe to Premium+ to go ad-free in For You.', 'Mar 15', 'Mar 15', None, 'Mar 15', 'Mar 15', 'Mar 15', 'Subscribe to Premium+ to go ad-free in For You.', 'Mar 15', 'Mar 15', 'Mar 15', 'Mar 15', 'Mar 15', 'Mar 15', None, 'Subscribe to Premium+ to go ad-free in For You.', 'Mar 15', 'Mar 15', 'Mar 15', 'Mar 15', 'Mar 15', 'Mar 15', 'Mar 15', 'Mar 15', \"Don't overpay on Amazon ever again! This Amazon shopping hack is like Prime Day on steroids.\", None, 'Mar 15', 'Mar 15', 'Mar 15', 'Mar 15', 'Mar 15', \"Don't overpay on Amazon ever again! This Amazon shopping hack is like Prime Day on steroids.\", 'Mar 15', 'Mar 15', 'Mar 15', 'Mar 15', None, 'Mar 15', 'Mar 15', \"Don't overpay on Amazon ever again! This Amazon shopping hack is like Prime Day on steroids.\", 'Mar 15', 'Mar 15', 'Mar 15', 'Mar 15', 'Mar 15', None]\n",
      "85 [None, None, None, None, None, None, None, '14h', '18h', 'In this Videobite, Patrick Park, Business Development Manager at UPM Raflatac, explains the company’s views of the label and package printing industry. The industry currently has serval hot topics from automation to product innovation and much more.', '21h', '22h', None, '14h', '18h', 'In this Videobite, Patrick Park, Business Development Manager at UPM Raflatac, explains the company’s views of the label and package printing industry. The industry currently has serval hot topics from automation to product innovation and much more.', '21h', '22h', 'Admin', 'Mar 15', 'Mar 15', 'Mar 15', None, '21h', '22h', 'Admin', 'Mar 15', 'Mar 15', 'Mar 15', 'Subscribe to Premium+ to go ad-free in For You.', 'Mar 15', 'Mar 15', None, 'Mar 15', 'Mar 15', 'Mar 15', 'Subscribe to Premium+ to go ad-free in For You.', 'Mar 15', 'Mar 15', 'Mar 15', 'Mar 15', 'Mar 15', 'Mar 15', None, 'Subscribe to Premium+ to go ad-free in For You.', 'Mar 15', 'Mar 15', 'Mar 15', 'Mar 15', 'Mar 15', 'Mar 15', 'Mar 15', 'Mar 15', \"Don't overpay on Amazon ever again! This Amazon shopping hack is like Prime Day on steroids.\", None, 'Mar 15', 'Mar 15', 'Mar 15', 'Mar 15', 'Mar 15', \"Don't overpay on Amazon ever again! This Amazon shopping hack is like Prime Day on steroids.\", 'Mar 15', 'Mar 15', 'Mar 15', 'Mar 15', None, 'Mar 15', 'Mar 15', \"Don't overpay on Amazon ever again! This Amazon shopping hack is like Prime Day on steroids.\", 'Mar 15', 'Mar 15', 'Mar 15', 'Mar 15', 'Mar 15', None, 'Mar 15', 'Mar 15', 'Mar 15', 'Mar 15', 'Mar 15', 'Mar 15', 'Mar 15', 'Mar 15', 'Mar 15', None]\n",
      "97 [None, None, None, None, None, None, None, '14h', '18h', 'In this Videobite, Patrick Park, Business Development Manager at UPM Raflatac, explains the company’s views of the label and package printing industry. The industry currently has serval hot topics from automation to product innovation and much more.', '21h', '22h', None, '14h', '18h', 'In this Videobite, Patrick Park, Business Development Manager at UPM Raflatac, explains the company’s views of the label and package printing industry. The industry currently has serval hot topics from automation to product innovation and much more.', '21h', '22h', 'Admin', 'Mar 15', 'Mar 15', 'Mar 15', None, '21h', '22h', 'Admin', 'Mar 15', 'Mar 15', 'Mar 15', 'Subscribe to Premium+ to go ad-free in For You.', 'Mar 15', 'Mar 15', None, 'Mar 15', 'Mar 15', 'Mar 15', 'Subscribe to Premium+ to go ad-free in For You.', 'Mar 15', 'Mar 15', 'Mar 15', 'Mar 15', 'Mar 15', 'Mar 15', None, 'Subscribe to Premium+ to go ad-free in For You.', 'Mar 15', 'Mar 15', 'Mar 15', 'Mar 15', 'Mar 15', 'Mar 15', 'Mar 15', 'Mar 15', \"Don't overpay on Amazon ever again! This Amazon shopping hack is like Prime Day on steroids.\", None, 'Mar 15', 'Mar 15', 'Mar 15', 'Mar 15', 'Mar 15', \"Don't overpay on Amazon ever again! This Amazon shopping hack is like Prime Day on steroids.\", 'Mar 15', 'Mar 15', 'Mar 15', 'Mar 15', None, 'Mar 15', 'Mar 15', \"Don't overpay on Amazon ever again! This Amazon shopping hack is like Prime Day on steroids.\", 'Mar 15', 'Mar 15', 'Mar 15', 'Mar 15', 'Mar 15', None, 'Mar 15', 'Mar 15', 'Mar 15', 'Mar 15', 'Mar 15', 'Mar 15', 'Mar 15', 'Mar 15', 'Mar 15', None, 'Mar 15', 'Mar 15', 'Mar 15', 'Mar 15', 'Mar 15', 'Mar 15', 'Mar 15', 'Mar 15', 'Mar 15', 'Mar 15', 'Mar 15', None]\n",
      "111 [None, None, None, None, None, None, None, '14h', '18h', 'In this Videobite, Patrick Park, Business Development Manager at UPM Raflatac, explains the company’s views of the label and package printing industry. The industry currently has serval hot topics from automation to product innovation and much more.', '21h', '22h', None, '14h', '18h', 'In this Videobite, Patrick Park, Business Development Manager at UPM Raflatac, explains the company’s views of the label and package printing industry. The industry currently has serval hot topics from automation to product innovation and much more.', '21h', '22h', 'Admin', 'Mar 15', 'Mar 15', 'Mar 15', None, '21h', '22h', 'Admin', 'Mar 15', 'Mar 15', 'Mar 15', 'Subscribe to Premium+ to go ad-free in For You.', 'Mar 15', 'Mar 15', None, 'Mar 15', 'Mar 15', 'Mar 15', 'Subscribe to Premium+ to go ad-free in For You.', 'Mar 15', 'Mar 15', 'Mar 15', 'Mar 15', 'Mar 15', 'Mar 15', None, 'Subscribe to Premium+ to go ad-free in For You.', 'Mar 15', 'Mar 15', 'Mar 15', 'Mar 15', 'Mar 15', 'Mar 15', 'Mar 15', 'Mar 15', \"Don't overpay on Amazon ever again! This Amazon shopping hack is like Prime Day on steroids.\", None, 'Mar 15', 'Mar 15', 'Mar 15', 'Mar 15', 'Mar 15', \"Don't overpay on Amazon ever again! This Amazon shopping hack is like Prime Day on steroids.\", 'Mar 15', 'Mar 15', 'Mar 15', 'Mar 15', None, 'Mar 15', 'Mar 15', \"Don't overpay on Amazon ever again! This Amazon shopping hack is like Prime Day on steroids.\", 'Mar 15', 'Mar 15', 'Mar 15', 'Mar 15', 'Mar 15', None, 'Mar 15', 'Mar 15', 'Mar 15', 'Mar 15', 'Mar 15', 'Mar 15', 'Mar 15', 'Mar 15', 'Mar 15', None, 'Mar 15', 'Mar 15', 'Mar 15', 'Mar 15', 'Mar 15', 'Mar 15', 'Mar 15', 'Mar 15', 'Mar 15', 'Mar 15', 'Mar 15', None, 'Mar 15', 'Mar 15', 'Mar 15', 'Mar 15', 'Mar 15', 'Mar 15', 'Mar 15', 'Mar 15', 'Mar 15', 'Mar 15', 'Mar 15', 'Mar 15', 'Mar 15', None]\n",
      "120 [None, None, None, None, None, None, None, '14h', '18h', 'In this Videobite, Patrick Park, Business Development Manager at UPM Raflatac, explains the company’s views of the label and package printing industry. The industry currently has serval hot topics from automation to product innovation and much more.', '21h', '22h', None, '14h', '18h', 'In this Videobite, Patrick Park, Business Development Manager at UPM Raflatac, explains the company’s views of the label and package printing industry. The industry currently has serval hot topics from automation to product innovation and much more.', '21h', '22h', 'Admin', 'Mar 15', 'Mar 15', 'Mar 15', None, '21h', '22h', 'Admin', 'Mar 15', 'Mar 15', 'Mar 15', 'Subscribe to Premium+ to go ad-free in For You.', 'Mar 15', 'Mar 15', None, 'Mar 15', 'Mar 15', 'Mar 15', 'Subscribe to Premium+ to go ad-free in For You.', 'Mar 15', 'Mar 15', 'Mar 15', 'Mar 15', 'Mar 15', 'Mar 15', None, 'Subscribe to Premium+ to go ad-free in For You.', 'Mar 15', 'Mar 15', 'Mar 15', 'Mar 15', 'Mar 15', 'Mar 15', 'Mar 15', 'Mar 15', \"Don't overpay on Amazon ever again! This Amazon shopping hack is like Prime Day on steroids.\", None, 'Mar 15', 'Mar 15', 'Mar 15', 'Mar 15', 'Mar 15', \"Don't overpay on Amazon ever again! This Amazon shopping hack is like Prime Day on steroids.\", 'Mar 15', 'Mar 15', 'Mar 15', 'Mar 15', None, 'Mar 15', 'Mar 15', \"Don't overpay on Amazon ever again! This Amazon shopping hack is like Prime Day on steroids.\", 'Mar 15', 'Mar 15', 'Mar 15', 'Mar 15', 'Mar 15', None, 'Mar 15', 'Mar 15', 'Mar 15', 'Mar 15', 'Mar 15', 'Mar 15', 'Mar 15', 'Mar 15', 'Mar 15', None, 'Mar 15', 'Mar 15', 'Mar 15', 'Mar 15', 'Mar 15', 'Mar 15', 'Mar 15', 'Mar 15', 'Mar 15', 'Mar 15', 'Mar 15', None, 'Mar 15', 'Mar 15', 'Mar 15', 'Mar 15', 'Mar 15', 'Mar 15', 'Mar 15', 'Mar 15', 'Mar 15', 'Mar 15', 'Mar 15', 'Mar 15', 'Mar 15', None, 'Mar 15', 'Mar 15', 'Mar 15', 'Mar 15', 'Mar 15', 'Mar 15', 'Subscribe to Premium+ to go ad-free in For You.', 'Mar 15', None]\n",
      "127 [None, None, None, None, None, None, None, '14h', '18h', 'In this Videobite, Patrick Park, Business Development Manager at UPM Raflatac, explains the company’s views of the label and package printing industry. The industry currently has serval hot topics from automation to product innovation and much more.', '21h', '22h', None, '14h', '18h', 'In this Videobite, Patrick Park, Business Development Manager at UPM Raflatac, explains the company’s views of the label and package printing industry. The industry currently has serval hot topics from automation to product innovation and much more.', '21h', '22h', 'Admin', 'Mar 15', 'Mar 15', 'Mar 15', None, '21h', '22h', 'Admin', 'Mar 15', 'Mar 15', 'Mar 15', 'Subscribe to Premium+ to go ad-free in For You.', 'Mar 15', 'Mar 15', None, 'Mar 15', 'Mar 15', 'Mar 15', 'Subscribe to Premium+ to go ad-free in For You.', 'Mar 15', 'Mar 15', 'Mar 15', 'Mar 15', 'Mar 15', 'Mar 15', None, 'Subscribe to Premium+ to go ad-free in For You.', 'Mar 15', 'Mar 15', 'Mar 15', 'Mar 15', 'Mar 15', 'Mar 15', 'Mar 15', 'Mar 15', \"Don't overpay on Amazon ever again! This Amazon shopping hack is like Prime Day on steroids.\", None, 'Mar 15', 'Mar 15', 'Mar 15', 'Mar 15', 'Mar 15', \"Don't overpay on Amazon ever again! This Amazon shopping hack is like Prime Day on steroids.\", 'Mar 15', 'Mar 15', 'Mar 15', 'Mar 15', None, 'Mar 15', 'Mar 15', \"Don't overpay on Amazon ever again! This Amazon shopping hack is like Prime Day on steroids.\", 'Mar 15', 'Mar 15', 'Mar 15', 'Mar 15', 'Mar 15', None, 'Mar 15', 'Mar 15', 'Mar 15', 'Mar 15', 'Mar 15', 'Mar 15', 'Mar 15', 'Mar 15', 'Mar 15', None, 'Mar 15', 'Mar 15', 'Mar 15', 'Mar 15', 'Mar 15', 'Mar 15', 'Mar 15', 'Mar 15', 'Mar 15', 'Mar 15', 'Mar 15', None, 'Mar 15', 'Mar 15', 'Mar 15', 'Mar 15', 'Mar 15', 'Mar 15', 'Mar 15', 'Mar 15', 'Mar 15', 'Mar 15', 'Mar 15', 'Mar 15', 'Mar 15', None, 'Mar 15', 'Mar 15', 'Mar 15', 'Mar 15', 'Mar 15', 'Mar 15', 'Subscribe to Premium+ to go ad-free in For You.', 'Mar 15', None, 'Mar 15', 'Mar 15', 'Subscribe to Premium+ to go ad-free in For You.', 'Mar 15', 'Mar 15', 'Mar 15', None]\n",
      "134 [None, None, None, None, None, None, None, '14h', '18h', 'In this Videobite, Patrick Park, Business Development Manager at UPM Raflatac, explains the company’s views of the label and package printing industry. The industry currently has serval hot topics from automation to product innovation and much more.', '21h', '22h', None, '14h', '18h', 'In this Videobite, Patrick Park, Business Development Manager at UPM Raflatac, explains the company’s views of the label and package printing industry. The industry currently has serval hot topics from automation to product innovation and much more.', '21h', '22h', 'Admin', 'Mar 15', 'Mar 15', 'Mar 15', None, '21h', '22h', 'Admin', 'Mar 15', 'Mar 15', 'Mar 15', 'Subscribe to Premium+ to go ad-free in For You.', 'Mar 15', 'Mar 15', None, 'Mar 15', 'Mar 15', 'Mar 15', 'Subscribe to Premium+ to go ad-free in For You.', 'Mar 15', 'Mar 15', 'Mar 15', 'Mar 15', 'Mar 15', 'Mar 15', None, 'Subscribe to Premium+ to go ad-free in For You.', 'Mar 15', 'Mar 15', 'Mar 15', 'Mar 15', 'Mar 15', 'Mar 15', 'Mar 15', 'Mar 15', \"Don't overpay on Amazon ever again! This Amazon shopping hack is like Prime Day on steroids.\", None, 'Mar 15', 'Mar 15', 'Mar 15', 'Mar 15', 'Mar 15', \"Don't overpay on Amazon ever again! This Amazon shopping hack is like Prime Day on steroids.\", 'Mar 15', 'Mar 15', 'Mar 15', 'Mar 15', None, 'Mar 15', 'Mar 15', \"Don't overpay on Amazon ever again! This Amazon shopping hack is like Prime Day on steroids.\", 'Mar 15', 'Mar 15', 'Mar 15', 'Mar 15', 'Mar 15', None, 'Mar 15', 'Mar 15', 'Mar 15', 'Mar 15', 'Mar 15', 'Mar 15', 'Mar 15', 'Mar 15', 'Mar 15', None, 'Mar 15', 'Mar 15', 'Mar 15', 'Mar 15', 'Mar 15', 'Mar 15', 'Mar 15', 'Mar 15', 'Mar 15', 'Mar 15', 'Mar 15', None, 'Mar 15', 'Mar 15', 'Mar 15', 'Mar 15', 'Mar 15', 'Mar 15', 'Mar 15', 'Mar 15', 'Mar 15', 'Mar 15', 'Mar 15', 'Mar 15', 'Mar 15', None, 'Mar 15', 'Mar 15', 'Mar 15', 'Mar 15', 'Mar 15', 'Mar 15', 'Subscribe to Premium+ to go ad-free in For You.', 'Mar 15', None, 'Mar 15', 'Mar 15', 'Subscribe to Premium+ to go ad-free in For You.', 'Mar 15', 'Mar 15', 'Mar 15', None, 'Subscribe to Premium+ to go ad-free in For You.', 'Mar 15', 'Mar 15', 'Mar 15', 'Mar 15', 'Mar 15', None]\n",
      "142 [None, None, None, None, None, None, None, '14h', '18h', 'In this Videobite, Patrick Park, Business Development Manager at UPM Raflatac, explains the company’s views of the label and package printing industry. The industry currently has serval hot topics from automation to product innovation and much more.', '21h', '22h', None, '14h', '18h', 'In this Videobite, Patrick Park, Business Development Manager at UPM Raflatac, explains the company’s views of the label and package printing industry. The industry currently has serval hot topics from automation to product innovation and much more.', '21h', '22h', 'Admin', 'Mar 15', 'Mar 15', 'Mar 15', None, '21h', '22h', 'Admin', 'Mar 15', 'Mar 15', 'Mar 15', 'Subscribe to Premium+ to go ad-free in For You.', 'Mar 15', 'Mar 15', None, 'Mar 15', 'Mar 15', 'Mar 15', 'Subscribe to Premium+ to go ad-free in For You.', 'Mar 15', 'Mar 15', 'Mar 15', 'Mar 15', 'Mar 15', 'Mar 15', None, 'Subscribe to Premium+ to go ad-free in For You.', 'Mar 15', 'Mar 15', 'Mar 15', 'Mar 15', 'Mar 15', 'Mar 15', 'Mar 15', 'Mar 15', \"Don't overpay on Amazon ever again! This Amazon shopping hack is like Prime Day on steroids.\", None, 'Mar 15', 'Mar 15', 'Mar 15', 'Mar 15', 'Mar 15', \"Don't overpay on Amazon ever again! This Amazon shopping hack is like Prime Day on steroids.\", 'Mar 15', 'Mar 15', 'Mar 15', 'Mar 15', None, 'Mar 15', 'Mar 15', \"Don't overpay on Amazon ever again! This Amazon shopping hack is like Prime Day on steroids.\", 'Mar 15', 'Mar 15', 'Mar 15', 'Mar 15', 'Mar 15', None, 'Mar 15', 'Mar 15', 'Mar 15', 'Mar 15', 'Mar 15', 'Mar 15', 'Mar 15', 'Mar 15', 'Mar 15', None, 'Mar 15', 'Mar 15', 'Mar 15', 'Mar 15', 'Mar 15', 'Mar 15', 'Mar 15', 'Mar 15', 'Mar 15', 'Mar 15', 'Mar 15', None, 'Mar 15', 'Mar 15', 'Mar 15', 'Mar 15', 'Mar 15', 'Mar 15', 'Mar 15', 'Mar 15', 'Mar 15', 'Mar 15', 'Mar 15', 'Mar 15', 'Mar 15', None, 'Mar 15', 'Mar 15', 'Mar 15', 'Mar 15', 'Mar 15', 'Mar 15', 'Subscribe to Premium+ to go ad-free in For You.', 'Mar 15', None, 'Mar 15', 'Mar 15', 'Subscribe to Premium+ to go ad-free in For You.', 'Mar 15', 'Mar 15', 'Mar 15', None, 'Subscribe to Premium+ to go ad-free in For You.', 'Mar 15', 'Mar 15', 'Mar 15', 'Mar 15', 'Mar 15', None, 'Mar 15', 'Mar 15', 'Mar 15', 'Mar 15', 'Mar 15', \"Step into the future of creativity with our dynamic AI video generation tool. It's not just fun – it's groundbreaking! Join our community and be one of the pioneers crafting the most engaging stories for free.\", 'Mar 15', None]\n",
      "151 [None, None, None, None, None, None, None, '14h', '18h', 'In this Videobite, Patrick Park, Business Development Manager at UPM Raflatac, explains the company’s views of the label and package printing industry. The industry currently has serval hot topics from automation to product innovation and much more.', '21h', '22h', None, '14h', '18h', 'In this Videobite, Patrick Park, Business Development Manager at UPM Raflatac, explains the company’s views of the label and package printing industry. The industry currently has serval hot topics from automation to product innovation and much more.', '21h', '22h', 'Admin', 'Mar 15', 'Mar 15', 'Mar 15', None, '21h', '22h', 'Admin', 'Mar 15', 'Mar 15', 'Mar 15', 'Subscribe to Premium+ to go ad-free in For You.', 'Mar 15', 'Mar 15', None, 'Mar 15', 'Mar 15', 'Mar 15', 'Subscribe to Premium+ to go ad-free in For You.', 'Mar 15', 'Mar 15', 'Mar 15', 'Mar 15', 'Mar 15', 'Mar 15', None, 'Subscribe to Premium+ to go ad-free in For You.', 'Mar 15', 'Mar 15', 'Mar 15', 'Mar 15', 'Mar 15', 'Mar 15', 'Mar 15', 'Mar 15', \"Don't overpay on Amazon ever again! This Amazon shopping hack is like Prime Day on steroids.\", None, 'Mar 15', 'Mar 15', 'Mar 15', 'Mar 15', 'Mar 15', \"Don't overpay on Amazon ever again! This Amazon shopping hack is like Prime Day on steroids.\", 'Mar 15', 'Mar 15', 'Mar 15', 'Mar 15', None, 'Mar 15', 'Mar 15', \"Don't overpay on Amazon ever again! This Amazon shopping hack is like Prime Day on steroids.\", 'Mar 15', 'Mar 15', 'Mar 15', 'Mar 15', 'Mar 15', None, 'Mar 15', 'Mar 15', 'Mar 15', 'Mar 15', 'Mar 15', 'Mar 15', 'Mar 15', 'Mar 15', 'Mar 15', None, 'Mar 15', 'Mar 15', 'Mar 15', 'Mar 15', 'Mar 15', 'Mar 15', 'Mar 15', 'Mar 15', 'Mar 15', 'Mar 15', 'Mar 15', None, 'Mar 15', 'Mar 15', 'Mar 15', 'Mar 15', 'Mar 15', 'Mar 15', 'Mar 15', 'Mar 15', 'Mar 15', 'Mar 15', 'Mar 15', 'Mar 15', 'Mar 15', None, 'Mar 15', 'Mar 15', 'Mar 15', 'Mar 15', 'Mar 15', 'Mar 15', 'Subscribe to Premium+ to go ad-free in For You.', 'Mar 15', None, 'Mar 15', 'Mar 15', 'Subscribe to Premium+ to go ad-free in For You.', 'Mar 15', 'Mar 15', 'Mar 15', None, 'Subscribe to Premium+ to go ad-free in For You.', 'Mar 15', 'Mar 15', 'Mar 15', 'Mar 15', 'Mar 15', None, 'Mar 15', 'Mar 15', 'Mar 15', 'Mar 15', 'Mar 15', \"Step into the future of creativity with our dynamic AI video generation tool. It's not just fun – it's groundbreaking! Join our community and be one of the pioneers crafting the most engaging stories for free.\", 'Mar 15', None, 'Mar 15', 'Mar 15', 'Mar 15', \"Step into the future of creativity with our dynamic AI video generation tool. It's not just fun – it's groundbreaking! Join our community and be one of the pioneers crafting the most engaging stories for free.\", 'Mar 15', 'Mar 15', 'Mar 15', 'Mar 15', None]\n",
      "160 [None, None, None, None, None, None, None, '14h', '18h', 'In this Videobite, Patrick Park, Business Development Manager at UPM Raflatac, explains the company’s views of the label and package printing industry. The industry currently has serval hot topics from automation to product innovation and much more.', '21h', '22h', None, '14h', '18h', 'In this Videobite, Patrick Park, Business Development Manager at UPM Raflatac, explains the company’s views of the label and package printing industry. The industry currently has serval hot topics from automation to product innovation and much more.', '21h', '22h', 'Admin', 'Mar 15', 'Mar 15', 'Mar 15', None, '21h', '22h', 'Admin', 'Mar 15', 'Mar 15', 'Mar 15', 'Subscribe to Premium+ to go ad-free in For You.', 'Mar 15', 'Mar 15', None, 'Mar 15', 'Mar 15', 'Mar 15', 'Subscribe to Premium+ to go ad-free in For You.', 'Mar 15', 'Mar 15', 'Mar 15', 'Mar 15', 'Mar 15', 'Mar 15', None, 'Subscribe to Premium+ to go ad-free in For You.', 'Mar 15', 'Mar 15', 'Mar 15', 'Mar 15', 'Mar 15', 'Mar 15', 'Mar 15', 'Mar 15', \"Don't overpay on Amazon ever again! This Amazon shopping hack is like Prime Day on steroids.\", None, 'Mar 15', 'Mar 15', 'Mar 15', 'Mar 15', 'Mar 15', \"Don't overpay on Amazon ever again! This Amazon shopping hack is like Prime Day on steroids.\", 'Mar 15', 'Mar 15', 'Mar 15', 'Mar 15', None, 'Mar 15', 'Mar 15', \"Don't overpay on Amazon ever again! This Amazon shopping hack is like Prime Day on steroids.\", 'Mar 15', 'Mar 15', 'Mar 15', 'Mar 15', 'Mar 15', None, 'Mar 15', 'Mar 15', 'Mar 15', 'Mar 15', 'Mar 15', 'Mar 15', 'Mar 15', 'Mar 15', 'Mar 15', None, 'Mar 15', 'Mar 15', 'Mar 15', 'Mar 15', 'Mar 15', 'Mar 15', 'Mar 15', 'Mar 15', 'Mar 15', 'Mar 15', 'Mar 15', None, 'Mar 15', 'Mar 15', 'Mar 15', 'Mar 15', 'Mar 15', 'Mar 15', 'Mar 15', 'Mar 15', 'Mar 15', 'Mar 15', 'Mar 15', 'Mar 15', 'Mar 15', None, 'Mar 15', 'Mar 15', 'Mar 15', 'Mar 15', 'Mar 15', 'Mar 15', 'Subscribe to Premium+ to go ad-free in For You.', 'Mar 15', None, 'Mar 15', 'Mar 15', 'Subscribe to Premium+ to go ad-free in For You.', 'Mar 15', 'Mar 15', 'Mar 15', None, 'Subscribe to Premium+ to go ad-free in For You.', 'Mar 15', 'Mar 15', 'Mar 15', 'Mar 15', 'Mar 15', None, 'Mar 15', 'Mar 15', 'Mar 15', 'Mar 15', 'Mar 15', \"Step into the future of creativity with our dynamic AI video generation tool. It's not just fun – it's groundbreaking! Join our community and be one of the pioneers crafting the most engaging stories for free.\", 'Mar 15', None, 'Mar 15', 'Mar 15', 'Mar 15', \"Step into the future of creativity with our dynamic AI video generation tool. It's not just fun – it's groundbreaking! Join our community and be one of the pioneers crafting the most engaging stories for free.\", 'Mar 15', 'Mar 15', 'Mar 15', 'Mar 15', None, 'Mar 15', \"Step into the future of creativity with our dynamic AI video generation tool. It's not just fun – it's groundbreaking! Join our community and be one of the pioneers crafting the most engaging stories for free.\", 'Mar 15', 'Mar 15', 'Mar 15', 'Mar 15', 'Mar 15', 'Mar 15', None]\n",
      "167 [None, None, None, None, None, None, None, '14h', '18h', 'In this Videobite, Patrick Park, Business Development Manager at UPM Raflatac, explains the company’s views of the label and package printing industry. The industry currently has serval hot topics from automation to product innovation and much more.', '21h', '22h', None, '14h', '18h', 'In this Videobite, Patrick Park, Business Development Manager at UPM Raflatac, explains the company’s views of the label and package printing industry. The industry currently has serval hot topics from automation to product innovation and much more.', '21h', '22h', 'Admin', 'Mar 15', 'Mar 15', 'Mar 15', None, '21h', '22h', 'Admin', 'Mar 15', 'Mar 15', 'Mar 15', 'Subscribe to Premium+ to go ad-free in For You.', 'Mar 15', 'Mar 15', None, 'Mar 15', 'Mar 15', 'Mar 15', 'Subscribe to Premium+ to go ad-free in For You.', 'Mar 15', 'Mar 15', 'Mar 15', 'Mar 15', 'Mar 15', 'Mar 15', None, 'Subscribe to Premium+ to go ad-free in For You.', 'Mar 15', 'Mar 15', 'Mar 15', 'Mar 15', 'Mar 15', 'Mar 15', 'Mar 15', 'Mar 15', \"Don't overpay on Amazon ever again! This Amazon shopping hack is like Prime Day on steroids.\", None, 'Mar 15', 'Mar 15', 'Mar 15', 'Mar 15', 'Mar 15', \"Don't overpay on Amazon ever again! This Amazon shopping hack is like Prime Day on steroids.\", 'Mar 15', 'Mar 15', 'Mar 15', 'Mar 15', None, 'Mar 15', 'Mar 15', \"Don't overpay on Amazon ever again! This Amazon shopping hack is like Prime Day on steroids.\", 'Mar 15', 'Mar 15', 'Mar 15', 'Mar 15', 'Mar 15', None, 'Mar 15', 'Mar 15', 'Mar 15', 'Mar 15', 'Mar 15', 'Mar 15', 'Mar 15', 'Mar 15', 'Mar 15', None, 'Mar 15', 'Mar 15', 'Mar 15', 'Mar 15', 'Mar 15', 'Mar 15', 'Mar 15', 'Mar 15', 'Mar 15', 'Mar 15', 'Mar 15', None, 'Mar 15', 'Mar 15', 'Mar 15', 'Mar 15', 'Mar 15', 'Mar 15', 'Mar 15', 'Mar 15', 'Mar 15', 'Mar 15', 'Mar 15', 'Mar 15', 'Mar 15', None, 'Mar 15', 'Mar 15', 'Mar 15', 'Mar 15', 'Mar 15', 'Mar 15', 'Subscribe to Premium+ to go ad-free in For You.', 'Mar 15', None, 'Mar 15', 'Mar 15', 'Subscribe to Premium+ to go ad-free in For You.', 'Mar 15', 'Mar 15', 'Mar 15', None, 'Subscribe to Premium+ to go ad-free in For You.', 'Mar 15', 'Mar 15', 'Mar 15', 'Mar 15', 'Mar 15', None, 'Mar 15', 'Mar 15', 'Mar 15', 'Mar 15', 'Mar 15', \"Step into the future of creativity with our dynamic AI video generation tool. It's not just fun – it's groundbreaking! Join our community and be one of the pioneers crafting the most engaging stories for free.\", 'Mar 15', None, 'Mar 15', 'Mar 15', 'Mar 15', \"Step into the future of creativity with our dynamic AI video generation tool. It's not just fun – it's groundbreaking! Join our community and be one of the pioneers crafting the most engaging stories for free.\", 'Mar 15', 'Mar 15', 'Mar 15', 'Mar 15', None, 'Mar 15', \"Step into the future of creativity with our dynamic AI video generation tool. It's not just fun – it's groundbreaking! Join our community and be one of the pioneers crafting the most engaging stories for free.\", 'Mar 15', 'Mar 15', 'Mar 15', 'Mar 15', 'Mar 15', 'Mar 15', None, 'Mar 15', 'Mar 15', 'Mar 15', 'Mar 15', 'Mar 15', 'Proud to take all my trades at PrimeXBT for the last 2+ years, a top-notch, underrated exchange. Join today: https://u.primexbt.com/omzcharts_tw?twclid=2kidtw97iwo3m4lz1jdtb59nq', None]\n",
      "177 [None, None, None, None, None, None, None, '14h', '18h', 'In this Videobite, Patrick Park, Business Development Manager at UPM Raflatac, explains the company’s views of the label and package printing industry. The industry currently has serval hot topics from automation to product innovation and much more.', '21h', '22h', None, '14h', '18h', 'In this Videobite, Patrick Park, Business Development Manager at UPM Raflatac, explains the company’s views of the label and package printing industry. The industry currently has serval hot topics from automation to product innovation and much more.', '21h', '22h', 'Admin', 'Mar 15', 'Mar 15', 'Mar 15', None, '21h', '22h', 'Admin', 'Mar 15', 'Mar 15', 'Mar 15', 'Subscribe to Premium+ to go ad-free in For You.', 'Mar 15', 'Mar 15', None, 'Mar 15', 'Mar 15', 'Mar 15', 'Subscribe to Premium+ to go ad-free in For You.', 'Mar 15', 'Mar 15', 'Mar 15', 'Mar 15', 'Mar 15', 'Mar 15', None, 'Subscribe to Premium+ to go ad-free in For You.', 'Mar 15', 'Mar 15', 'Mar 15', 'Mar 15', 'Mar 15', 'Mar 15', 'Mar 15', 'Mar 15', \"Don't overpay on Amazon ever again! This Amazon shopping hack is like Prime Day on steroids.\", None, 'Mar 15', 'Mar 15', 'Mar 15', 'Mar 15', 'Mar 15', \"Don't overpay on Amazon ever again! This Amazon shopping hack is like Prime Day on steroids.\", 'Mar 15', 'Mar 15', 'Mar 15', 'Mar 15', None, 'Mar 15', 'Mar 15', \"Don't overpay on Amazon ever again! This Amazon shopping hack is like Prime Day on steroids.\", 'Mar 15', 'Mar 15', 'Mar 15', 'Mar 15', 'Mar 15', None, 'Mar 15', 'Mar 15', 'Mar 15', 'Mar 15', 'Mar 15', 'Mar 15', 'Mar 15', 'Mar 15', 'Mar 15', None, 'Mar 15', 'Mar 15', 'Mar 15', 'Mar 15', 'Mar 15', 'Mar 15', 'Mar 15', 'Mar 15', 'Mar 15', 'Mar 15', 'Mar 15', None, 'Mar 15', 'Mar 15', 'Mar 15', 'Mar 15', 'Mar 15', 'Mar 15', 'Mar 15', 'Mar 15', 'Mar 15', 'Mar 15', 'Mar 15', 'Mar 15', 'Mar 15', None, 'Mar 15', 'Mar 15', 'Mar 15', 'Mar 15', 'Mar 15', 'Mar 15', 'Subscribe to Premium+ to go ad-free in For You.', 'Mar 15', None, 'Mar 15', 'Mar 15', 'Subscribe to Premium+ to go ad-free in For You.', 'Mar 15', 'Mar 15', 'Mar 15', None, 'Subscribe to Premium+ to go ad-free in For You.', 'Mar 15', 'Mar 15', 'Mar 15', 'Mar 15', 'Mar 15', None, 'Mar 15', 'Mar 15', 'Mar 15', 'Mar 15', 'Mar 15', \"Step into the future of creativity with our dynamic AI video generation tool. It's not just fun – it's groundbreaking! Join our community and be one of the pioneers crafting the most engaging stories for free.\", 'Mar 15', None, 'Mar 15', 'Mar 15', 'Mar 15', \"Step into the future of creativity with our dynamic AI video generation tool. It's not just fun – it's groundbreaking! Join our community and be one of the pioneers crafting the most engaging stories for free.\", 'Mar 15', 'Mar 15', 'Mar 15', 'Mar 15', None, 'Mar 15', \"Step into the future of creativity with our dynamic AI video generation tool. It's not just fun – it's groundbreaking! Join our community and be one of the pioneers crafting the most engaging stories for free.\", 'Mar 15', 'Mar 15', 'Mar 15', 'Mar 15', 'Mar 15', 'Mar 15', None, 'Mar 15', 'Mar 15', 'Mar 15', 'Mar 15', 'Mar 15', 'Proud to take all my trades at PrimeXBT for the last 2+ years, a top-notch, underrated exchange. Join today: https://u.primexbt.com/omzcharts_tw?twclid=2kidtw97iwo3m4lz1jdtb59nq', None, 'Mar 15', 'Mar 15', 'Mar 15', 'Proud to take all my trades at PrimeXBT for the last 2+ years, a top-notch, underrated exchange. Join today: https://u.primexbt.com/omzcharts_tw?twclid=2kidtw97iwo3m4lz1jdtb59nq', 'Mar 15', 'Mar 15', 'Mar 15', 'Mar 15', 'Mar 14', None]\n",
      "187 [None, None, None, None, None, None, None, '14h', '18h', 'In this Videobite, Patrick Park, Business Development Manager at UPM Raflatac, explains the company’s views of the label and package printing industry. The industry currently has serval hot topics from automation to product innovation and much more.', '21h', '22h', None, '14h', '18h', 'In this Videobite, Patrick Park, Business Development Manager at UPM Raflatac, explains the company’s views of the label and package printing industry. The industry currently has serval hot topics from automation to product innovation and much more.', '21h', '22h', 'Admin', 'Mar 15', 'Mar 15', 'Mar 15', None, '21h', '22h', 'Admin', 'Mar 15', 'Mar 15', 'Mar 15', 'Subscribe to Premium+ to go ad-free in For You.', 'Mar 15', 'Mar 15', None, 'Mar 15', 'Mar 15', 'Mar 15', 'Subscribe to Premium+ to go ad-free in For You.', 'Mar 15', 'Mar 15', 'Mar 15', 'Mar 15', 'Mar 15', 'Mar 15', None, 'Subscribe to Premium+ to go ad-free in For You.', 'Mar 15', 'Mar 15', 'Mar 15', 'Mar 15', 'Mar 15', 'Mar 15', 'Mar 15', 'Mar 15', \"Don't overpay on Amazon ever again! This Amazon shopping hack is like Prime Day on steroids.\", None, 'Mar 15', 'Mar 15', 'Mar 15', 'Mar 15', 'Mar 15', \"Don't overpay on Amazon ever again! This Amazon shopping hack is like Prime Day on steroids.\", 'Mar 15', 'Mar 15', 'Mar 15', 'Mar 15', None, 'Mar 15', 'Mar 15', \"Don't overpay on Amazon ever again! This Amazon shopping hack is like Prime Day on steroids.\", 'Mar 15', 'Mar 15', 'Mar 15', 'Mar 15', 'Mar 15', None, 'Mar 15', 'Mar 15', 'Mar 15', 'Mar 15', 'Mar 15', 'Mar 15', 'Mar 15', 'Mar 15', 'Mar 15', None, 'Mar 15', 'Mar 15', 'Mar 15', 'Mar 15', 'Mar 15', 'Mar 15', 'Mar 15', 'Mar 15', 'Mar 15', 'Mar 15', 'Mar 15', None, 'Mar 15', 'Mar 15', 'Mar 15', 'Mar 15', 'Mar 15', 'Mar 15', 'Mar 15', 'Mar 15', 'Mar 15', 'Mar 15', 'Mar 15', 'Mar 15', 'Mar 15', None, 'Mar 15', 'Mar 15', 'Mar 15', 'Mar 15', 'Mar 15', 'Mar 15', 'Subscribe to Premium+ to go ad-free in For You.', 'Mar 15', None, 'Mar 15', 'Mar 15', 'Subscribe to Premium+ to go ad-free in For You.', 'Mar 15', 'Mar 15', 'Mar 15', None, 'Subscribe to Premium+ to go ad-free in For You.', 'Mar 15', 'Mar 15', 'Mar 15', 'Mar 15', 'Mar 15', None, 'Mar 15', 'Mar 15', 'Mar 15', 'Mar 15', 'Mar 15', \"Step into the future of creativity with our dynamic AI video generation tool. It's not just fun – it's groundbreaking! Join our community and be one of the pioneers crafting the most engaging stories for free.\", 'Mar 15', None, 'Mar 15', 'Mar 15', 'Mar 15', \"Step into the future of creativity with our dynamic AI video generation tool. It's not just fun – it's groundbreaking! Join our community and be one of the pioneers crafting the most engaging stories for free.\", 'Mar 15', 'Mar 15', 'Mar 15', 'Mar 15', None, 'Mar 15', \"Step into the future of creativity with our dynamic AI video generation tool. It's not just fun – it's groundbreaking! Join our community and be one of the pioneers crafting the most engaging stories for free.\", 'Mar 15', 'Mar 15', 'Mar 15', 'Mar 15', 'Mar 15', 'Mar 15', None, 'Mar 15', 'Mar 15', 'Mar 15', 'Mar 15', 'Mar 15', 'Proud to take all my trades at PrimeXBT for the last 2+ years, a top-notch, underrated exchange. Join today: https://u.primexbt.com/omzcharts_tw?twclid=2kidtw97iwo3m4lz1jdtb59nq', None, 'Mar 15', 'Mar 15', 'Mar 15', 'Proud to take all my trades at PrimeXBT for the last 2+ years, a top-notch, underrated exchange. Join today: https://u.primexbt.com/omzcharts_tw?twclid=2kidtw97iwo3m4lz1jdtb59nq', 'Mar 15', 'Mar 15', 'Mar 15', 'Mar 15', 'Mar 14', None, 'Mar 15', 'Proud to take all my trades at PrimeXBT for the last 2+ years, a top-notch, underrated exchange. Join today: https://u.primexbt.com/omzcharts_tw?twclid=2kidtw97iwo3m4lz1jdtb59nq', 'Mar 15', 'Mar 15', 'Mar 15', 'Mar 15', 'Mar 14', 'Mar 14', 'Mar 14', None]\n",
      "196 [None, None, None, None, None, None, None, '14h', '18h', 'In this Videobite, Patrick Park, Business Development Manager at UPM Raflatac, explains the company’s views of the label and package printing industry. The industry currently has serval hot topics from automation to product innovation and much more.', '21h', '22h', None, '14h', '18h', 'In this Videobite, Patrick Park, Business Development Manager at UPM Raflatac, explains the company’s views of the label and package printing industry. The industry currently has serval hot topics from automation to product innovation and much more.', '21h', '22h', 'Admin', 'Mar 15', 'Mar 15', 'Mar 15', None, '21h', '22h', 'Admin', 'Mar 15', 'Mar 15', 'Mar 15', 'Subscribe to Premium+ to go ad-free in For You.', 'Mar 15', 'Mar 15', None, 'Mar 15', 'Mar 15', 'Mar 15', 'Subscribe to Premium+ to go ad-free in For You.', 'Mar 15', 'Mar 15', 'Mar 15', 'Mar 15', 'Mar 15', 'Mar 15', None, 'Subscribe to Premium+ to go ad-free in For You.', 'Mar 15', 'Mar 15', 'Mar 15', 'Mar 15', 'Mar 15', 'Mar 15', 'Mar 15', 'Mar 15', \"Don't overpay on Amazon ever again! This Amazon shopping hack is like Prime Day on steroids.\", None, 'Mar 15', 'Mar 15', 'Mar 15', 'Mar 15', 'Mar 15', \"Don't overpay on Amazon ever again! This Amazon shopping hack is like Prime Day on steroids.\", 'Mar 15', 'Mar 15', 'Mar 15', 'Mar 15', None, 'Mar 15', 'Mar 15', \"Don't overpay on Amazon ever again! This Amazon shopping hack is like Prime Day on steroids.\", 'Mar 15', 'Mar 15', 'Mar 15', 'Mar 15', 'Mar 15', None, 'Mar 15', 'Mar 15', 'Mar 15', 'Mar 15', 'Mar 15', 'Mar 15', 'Mar 15', 'Mar 15', 'Mar 15', None, 'Mar 15', 'Mar 15', 'Mar 15', 'Mar 15', 'Mar 15', 'Mar 15', 'Mar 15', 'Mar 15', 'Mar 15', 'Mar 15', 'Mar 15', None, 'Mar 15', 'Mar 15', 'Mar 15', 'Mar 15', 'Mar 15', 'Mar 15', 'Mar 15', 'Mar 15', 'Mar 15', 'Mar 15', 'Mar 15', 'Mar 15', 'Mar 15', None, 'Mar 15', 'Mar 15', 'Mar 15', 'Mar 15', 'Mar 15', 'Mar 15', 'Subscribe to Premium+ to go ad-free in For You.', 'Mar 15', None, 'Mar 15', 'Mar 15', 'Subscribe to Premium+ to go ad-free in For You.', 'Mar 15', 'Mar 15', 'Mar 15', None, 'Subscribe to Premium+ to go ad-free in For You.', 'Mar 15', 'Mar 15', 'Mar 15', 'Mar 15', 'Mar 15', None, 'Mar 15', 'Mar 15', 'Mar 15', 'Mar 15', 'Mar 15', \"Step into the future of creativity with our dynamic AI video generation tool. It's not just fun – it's groundbreaking! Join our community and be one of the pioneers crafting the most engaging stories for free.\", 'Mar 15', None, 'Mar 15', 'Mar 15', 'Mar 15', \"Step into the future of creativity with our dynamic AI video generation tool. It's not just fun – it's groundbreaking! Join our community and be one of the pioneers crafting the most engaging stories for free.\", 'Mar 15', 'Mar 15', 'Mar 15', 'Mar 15', None, 'Mar 15', \"Step into the future of creativity with our dynamic AI video generation tool. It's not just fun – it's groundbreaking! Join our community and be one of the pioneers crafting the most engaging stories for free.\", 'Mar 15', 'Mar 15', 'Mar 15', 'Mar 15', 'Mar 15', 'Mar 15', None, 'Mar 15', 'Mar 15', 'Mar 15', 'Mar 15', 'Mar 15', 'Proud to take all my trades at PrimeXBT for the last 2+ years, a top-notch, underrated exchange. Join today: https://u.primexbt.com/omzcharts_tw?twclid=2kidtw97iwo3m4lz1jdtb59nq', None, 'Mar 15', 'Mar 15', 'Mar 15', 'Proud to take all my trades at PrimeXBT for the last 2+ years, a top-notch, underrated exchange. Join today: https://u.primexbt.com/omzcharts_tw?twclid=2kidtw97iwo3m4lz1jdtb59nq', 'Mar 15', 'Mar 15', 'Mar 15', 'Mar 15', 'Mar 14', None, 'Mar 15', 'Proud to take all my trades at PrimeXBT for the last 2+ years, a top-notch, underrated exchange. Join today: https://u.primexbt.com/omzcharts_tw?twclid=2kidtw97iwo3m4lz1jdtb59nq', 'Mar 15', 'Mar 15', 'Mar 15', 'Mar 15', 'Mar 14', 'Mar 14', 'Mar 14', None, 'Mar 15', 'Mar 15', 'Mar 14', 'Mar 14', 'Mar 14', 'Mar 14', 'Enhance your Software Intelligence. Find the right software for your business based on over 3 million real reviews from all around the web', 'Mar 14', None]\n",
      "205 [None, None, None, None, None, None, None, '14h', '18h', 'In this Videobite, Patrick Park, Business Development Manager at UPM Raflatac, explains the company’s views of the label and package printing industry. The industry currently has serval hot topics from automation to product innovation and much more.', '21h', '22h', None, '14h', '18h', 'In this Videobite, Patrick Park, Business Development Manager at UPM Raflatac, explains the company’s views of the label and package printing industry. The industry currently has serval hot topics from automation to product innovation and much more.', '21h', '22h', 'Admin', 'Mar 15', 'Mar 15', 'Mar 15', None, '21h', '22h', 'Admin', 'Mar 15', 'Mar 15', 'Mar 15', 'Subscribe to Premium+ to go ad-free in For You.', 'Mar 15', 'Mar 15', None, 'Mar 15', 'Mar 15', 'Mar 15', 'Subscribe to Premium+ to go ad-free in For You.', 'Mar 15', 'Mar 15', 'Mar 15', 'Mar 15', 'Mar 15', 'Mar 15', None, 'Subscribe to Premium+ to go ad-free in For You.', 'Mar 15', 'Mar 15', 'Mar 15', 'Mar 15', 'Mar 15', 'Mar 15', 'Mar 15', 'Mar 15', \"Don't overpay on Amazon ever again! This Amazon shopping hack is like Prime Day on steroids.\", None, 'Mar 15', 'Mar 15', 'Mar 15', 'Mar 15', 'Mar 15', \"Don't overpay on Amazon ever again! This Amazon shopping hack is like Prime Day on steroids.\", 'Mar 15', 'Mar 15', 'Mar 15', 'Mar 15', None, 'Mar 15', 'Mar 15', \"Don't overpay on Amazon ever again! This Amazon shopping hack is like Prime Day on steroids.\", 'Mar 15', 'Mar 15', 'Mar 15', 'Mar 15', 'Mar 15', None, 'Mar 15', 'Mar 15', 'Mar 15', 'Mar 15', 'Mar 15', 'Mar 15', 'Mar 15', 'Mar 15', 'Mar 15', None, 'Mar 15', 'Mar 15', 'Mar 15', 'Mar 15', 'Mar 15', 'Mar 15', 'Mar 15', 'Mar 15', 'Mar 15', 'Mar 15', 'Mar 15', None, 'Mar 15', 'Mar 15', 'Mar 15', 'Mar 15', 'Mar 15', 'Mar 15', 'Mar 15', 'Mar 15', 'Mar 15', 'Mar 15', 'Mar 15', 'Mar 15', 'Mar 15', None, 'Mar 15', 'Mar 15', 'Mar 15', 'Mar 15', 'Mar 15', 'Mar 15', 'Subscribe to Premium+ to go ad-free in For You.', 'Mar 15', None, 'Mar 15', 'Mar 15', 'Subscribe to Premium+ to go ad-free in For You.', 'Mar 15', 'Mar 15', 'Mar 15', None, 'Subscribe to Premium+ to go ad-free in For You.', 'Mar 15', 'Mar 15', 'Mar 15', 'Mar 15', 'Mar 15', None, 'Mar 15', 'Mar 15', 'Mar 15', 'Mar 15', 'Mar 15', \"Step into the future of creativity with our dynamic AI video generation tool. It's not just fun – it's groundbreaking! Join our community and be one of the pioneers crafting the most engaging stories for free.\", 'Mar 15', None, 'Mar 15', 'Mar 15', 'Mar 15', \"Step into the future of creativity with our dynamic AI video generation tool. It's not just fun – it's groundbreaking! Join our community and be one of the pioneers crafting the most engaging stories for free.\", 'Mar 15', 'Mar 15', 'Mar 15', 'Mar 15', None, 'Mar 15', \"Step into the future of creativity with our dynamic AI video generation tool. It's not just fun – it's groundbreaking! Join our community and be one of the pioneers crafting the most engaging stories for free.\", 'Mar 15', 'Mar 15', 'Mar 15', 'Mar 15', 'Mar 15', 'Mar 15', None, 'Mar 15', 'Mar 15', 'Mar 15', 'Mar 15', 'Mar 15', 'Proud to take all my trades at PrimeXBT for the last 2+ years, a top-notch, underrated exchange. Join today: https://u.primexbt.com/omzcharts_tw?twclid=2kidtw97iwo3m4lz1jdtb59nq', None, 'Mar 15', 'Mar 15', 'Mar 15', 'Proud to take all my trades at PrimeXBT for the last 2+ years, a top-notch, underrated exchange. Join today: https://u.primexbt.com/omzcharts_tw?twclid=2kidtw97iwo3m4lz1jdtb59nq', 'Mar 15', 'Mar 15', 'Mar 15', 'Mar 15', 'Mar 14', None, 'Mar 15', 'Proud to take all my trades at PrimeXBT for the last 2+ years, a top-notch, underrated exchange. Join today: https://u.primexbt.com/omzcharts_tw?twclid=2kidtw97iwo3m4lz1jdtb59nq', 'Mar 15', 'Mar 15', 'Mar 15', 'Mar 15', 'Mar 14', 'Mar 14', 'Mar 14', None, 'Mar 15', 'Mar 15', 'Mar 14', 'Mar 14', 'Mar 14', 'Mar 14', 'Enhance your Software Intelligence. Find the right software for your business based on over 3 million real reviews from all around the web', 'Mar 14', None, 'Mar 14', 'Mar 14', 'Mar 14', 'Enhance your Software Intelligence. Find the right software for your business based on over 3 million real reviews from all around the web', 'Mar 14', 'Mar 14', 'Mar 14', 'Mar 14', None]\n"
     ]
    }
   ],
   "source": [
    "time_lst = []\n",
    "content_lst = []\n",
    "\n",
    "def handle_index(string_list):\n",
    "    for index, string in enumerate(string_list):\n",
    "        if '@' in string:\n",
    "            return index\n",
    "    return None\n",
    "\n",
    "while(len(content_lst)<200):\n",
    "    driver.execute_script(\"window.scrollBy(0, 2 * window.innerHeight)\")\n",
    "    time.sleep(2)\n",
    "    \n",
    "    div_elements = driver.find_elements(By.CSS_SELECTOR , 'div.css-175oi2r.r-1iusvr4.r-16y2uox.r-1777fci.r-kzbkwu')\n",
    "    # time.sleep(1)\n",
    "    for i in div_elements:\n",
    "    # Extracting time data\n",
    "        twitter_text_split = i.text.split('\\n')\n",
    "        if(handle_index(twitter_text_split)!= None):\n",
    "            time_idx = handle_index(twitter_text_split)+2\n",
    "            time_lst.append(twitter_text_split[time_idx])\n",
    "            content_str = ''\n",
    "            for j in twitter_text_split[time_idx+1:-1]:\n",
    "                content_str = content_str + \" \" + j\n",
    "            content_lst.append(content_str)\n",
    "    else:\n",
    "        time_lst.append(None)\n",
    "        content_lst.append(None)\n",
    "    print(len(content_lst) , time_lst)\n",
    "    "
   ]
  },
  {
   "cell_type": "code",
   "execution_count": 41,
   "metadata": {},
   "outputs": [
    {
     "data": {
      "text/html": [
       "<div>\n",
       "<style scoped>\n",
       "    .dataframe tbody tr th:only-of-type {\n",
       "        vertical-align: middle;\n",
       "    }\n",
       "\n",
       "    .dataframe tbody tr th {\n",
       "        vertical-align: top;\n",
       "    }\n",
       "\n",
       "    .dataframe thead th {\n",
       "        text-align: right;\n",
       "    }\n",
       "</style>\n",
       "<table border=\"1\" class=\"dataframe\">\n",
       "  <thead>\n",
       "    <tr style=\"text-align: right;\">\n",
       "      <th></th>\n",
       "      <th>Content</th>\n",
       "      <th>Time</th>\n",
       "    </tr>\n",
       "  </thead>\n",
       "  <tbody>\n",
       "    <tr>\n",
       "      <th>0</th>\n",
       "      <td>None</td>\n",
       "      <td>None</td>\n",
       "    </tr>\n",
       "    <tr>\n",
       "      <th>1</th>\n",
       "      <td>None</td>\n",
       "      <td>None</td>\n",
       "    </tr>\n",
       "    <tr>\n",
       "      <th>2</th>\n",
       "      <td>None</td>\n",
       "      <td>None</td>\n",
       "    </tr>\n",
       "    <tr>\n",
       "      <th>3</th>\n",
       "      <td>None</td>\n",
       "      <td>None</td>\n",
       "    </tr>\n",
       "    <tr>\n",
       "      <th>4</th>\n",
       "      <td>None</td>\n",
       "      <td>None</td>\n",
       "    </tr>\n",
       "    <tr>\n",
       "      <th>...</th>\n",
       "      <td>...</td>\n",
       "      <td>...</td>\n",
       "    </tr>\n",
       "    <tr>\n",
       "      <th>200</th>\n",
       "      <td>AMBANI AND RELIANCE LINK FOUND:  Reliance Ind...</td>\n",
       "      <td>Mar 14</td>\n",
       "    </tr>\n",
       "    <tr>\n",
       "      <th>201</th>\n",
       "      <td>Replying to  @s_b_tiwari  and  @PMishra_Journ...</td>\n",
       "      <td>Mar 14</td>\n",
       "    </tr>\n",
       "    <tr>\n",
       "      <th>202</th>\n",
       "      <td>Replying to  @Mr_Unomi Reliance Industries (Q...</td>\n",
       "      <td>Mar 14</td>\n",
       "    </tr>\n",
       "    <tr>\n",
       "      <th>203</th>\n",
       "      <td>Replying to  @Abhinav_Pan AMBANI AND RELIANCE...</td>\n",
       "      <td>Mar 14</td>\n",
       "    </tr>\n",
       "    <tr>\n",
       "      <th>204</th>\n",
       "      <td>None</td>\n",
       "      <td>None</td>\n",
       "    </tr>\n",
       "  </tbody>\n",
       "</table>\n",
       "<p>205 rows × 2 columns</p>\n",
       "</div>"
      ],
      "text/plain": [
       "                                               Content    Time\n",
       "0                                                 None    None\n",
       "1                                                 None    None\n",
       "2                                                 None    None\n",
       "3                                                 None    None\n",
       "4                                                 None    None\n",
       "..                                                 ...     ...\n",
       "200   AMBANI AND RELIANCE LINK FOUND:  Reliance Ind...  Mar 14\n",
       "201   Replying to  @s_b_tiwari  and  @PMishra_Journ...  Mar 14\n",
       "202   Replying to  @Mr_Unomi Reliance Industries (Q...  Mar 14\n",
       "203   Replying to  @Abhinav_Pan AMBANI AND RELIANCE...  Mar 14\n",
       "204                                               None    None\n",
       "\n",
       "[205 rows x 2 columns]"
      ]
     },
     "execution_count": 41,
     "metadata": {},
     "output_type": "execute_result"
    }
   ],
   "source": [
    "df = pd.DataFrame({'Content':content_lst , 'Time':time_lst})\n",
    "df"
   ]
  },
  {
   "cell_type": "code",
   "execution_count": 42,
   "metadata": {},
   "outputs": [],
   "source": [
    "df.to_csv('Twitter_unfiltered.csv')"
   ]
  },
  {
   "cell_type": "markdown",
   "metadata": {},
   "source": [
    "Processing Time (Filtering posts within 24 hours)"
   ]
  },
  {
   "cell_type": "code",
   "execution_count": null,
   "metadata": {},
   "outputs": [],
   "source": [
    "def convert_to_hours(time_str):\n",
    "    # Extract the numerical value from the string\n",
    "    num = int(re.search(r'\\d+', time_str).group())\n",
    "    # Check the unit (hours, days, etc.) and convert to hours\n",
    "    if 'hour' in time_str:\n",
    "        return num\n",
    "    elif 'day' in time_str:\n",
    "        return num * 24  # Convert days to hours\n",
    "    else:\n",
    "        return None\n",
    "\n",
    "# Convert the 'Time' column to hours\n",
    "df['Time (hours)'] = df['Time'].apply(convert_to_hours)\n",
    "\n",
    "df.to_csv('GoogleExtract_unfiltered.csv')\n",
    "# Filter the rows where time is less than or equal to 1 day (24 hours)\n",
    "filtered_df = df[df['Time (hours)'] <= 24]"
   ]
  },
  {
   "cell_type": "code",
   "execution_count": null,
   "metadata": {},
   "outputs": [],
   "source": []
  },
  {
   "cell_type": "code",
   "execution_count": 54,
   "metadata": {},
   "outputs": [
    {
     "name": "stdout",
     "output_type": "stream",
     "text": [
      "                                               Content    Time  hours\n",
      "7     Replying to  @sidd_sharma01  @RenukaJain6  an...     14h     14\n",
      "8     Nice to know! I still want to see 15% of Purc...     18h     18\n",
      "10    AMBANI & RELIANCE LINK FOUND  Reliance Indust...     21h     21\n",
      "11    Replying to  @SushantBSinha AMBANI AND RELIAN...     22h     22\n",
      "13    Replying to  @sidd_sharma01  @RenukaJain6  an...     14h     14\n",
      "..                                                 ...     ...    ...\n",
      "180   Replying to  @ggganeshh El Bond list Quick Su...  Mar 15     24\n",
      "181   AMBANI AND RELIANCE LINK FOUND:  Reliance Ind...  Mar 15     24\n",
      "182   Replying to  @atullondhe AMBANI AND RELIANCE ...  Mar 15     24\n",
      "187   AMBANI AND RELIANCE LINK FOUND:  Reliance Ind...  Mar 15     24\n",
      "188   Replying to  @atullondhe AMBANI AND RELIANCE ...  Mar 15     24\n",
      "\n",
      "[140 rows x 3 columns]\n"
     ]
    }
   ],
   "source": [
    "\n",
    "\n",
    "# Function to convert different time formats to hours\n",
    "def convert_to_hours(time_str):\n",
    "    if (time_str!= None and len(time_str)<10 and any(char.isdigit() for char in time_str)):\n",
    "        if 'm' in time_str:\n",
    "            return int(time_str.replace('m', '')) / 60\n",
    "        elif 'h' in time_str:\n",
    "            return int(time_str.replace('h', ''))\n",
    "        elif 'Mar' in time_str:\n",
    "            temp_split = time_str.split(' ')\n",
    "            return 24*(16-int(temp_split[-1]))\n",
    "        else:\n",
    "            return None\n",
    "    else: \n",
    "        return 25\n",
    "\n",
    "# Convert time column to hours\n",
    "df['hours'] = df['Time'].apply(convert_to_hours)\n",
    "\n",
    "# Filter rows with time <= 24 hours\n",
    "filtered_df = df[df['hours'] <= 24]\n",
    "\n",
    "print(filtered_df)"
   ]
  },
  {
   "cell_type": "markdown",
   "metadata": {},
   "source": [
    "### Filter out unique rows based on the 'content' column"
   ]
  },
  {
   "cell_type": "code",
   "execution_count": 56,
   "metadata": {},
   "outputs": [],
   "source": [
    "\n",
    "unique_df = filtered_df.drop_duplicates(subset=['Content'])\n",
    "unique_df.to_csv('Twitter_filtered_unique.csv')"
   ]
  },
  {
   "cell_type": "code",
   "execution_count": 18,
   "metadata": {},
   "outputs": [
    {
     "name": "stdout",
     "output_type": "stream",
     "text": [
      "5\n"
     ]
    }
   ],
   "source": [
    "# div_elements = driver.find_elements(By.CSS_SELECTOR , 'div.css-175oi2r.r-18u37iz')\n",
    "div_elements = driver.find_elements(By.CSS_SELECTOR , 'div.css-175oi2r.r-1iusvr4.r-16y2uox.r-1777fci.r-kzbkwu')\n",
    "print(len(div_elements))"
   ]
  },
  {
   "cell_type": "code",
   "execution_count": 24,
   "metadata": {},
   "outputs": [
    {
     "name": "stdout",
     "output_type": "stream",
     "text": [
      "['Vamsi T Mohun', '@VamsiInIn', '·', '3m', 'Nice to know! I still want to see 15% of Purchases that are missing from the SBI/ECI list.', '', '\"Reliance Industries company called Qwik Supply Chain Pvt Ltd, which was the third-largest donor.\" ', '@ndtv', 'Quote', 'Vamsi T Mohun', '@VamsiInIn', '·', '6h', \"BTW Don't Adani and Ambani use the Electoral Bonds option to channel funds to Gujju Kim? What channel do they use? x.com/VamsiInIn/stat…\", '1']\n",
      "['Dheeraj Borisa', '@draj8910', '·', '3h', 'AMBANI & RELIANCE LINK FOUND', '', 'Reliance Industries (Qwik Supply Chain Pvt Ltd) donated around Rs. 410 crore through #ElectoralBond which is the 3rd largest donated amount.', '', '#ModiHaiToMumkinHai ', '', '#ElectoralBondScam ', 'Show more', 'Quote', 'Manish Singh', '@RebornManish', '·', '16h', 'धूर्त, बेईमान, झूठा, मक्कार, बेहूदा, नालायक, धोखेबाज, मुँहचोर, बेशर्म.. सूर्य प्रताप। ', '', 'अभी टबइतने ही विशेषण!! बाकी सूची बनाकर और बताऊंगा। ', '●●', 'बहरहाल। Qwik Supply Chain Pvt. Ltd. का करीब 500 करोड़ का टर्नओवर है।इस कंपनी ने 410 करोड़ रुपये का चंदा दिया है। ', '', '2022 में इस कंपनी का… x.com/suryapsingh_IA…', '35']\n",
      "['Sara Jahaan', '@jahaan_sara', '·', '4h', 'Replying to ', '@SushantBSinha', 'AMBANI AND RELIANCE LINK FOUND:', '', 'Reliance Industries (Qwik Supply Chain Pvt Ltd) donated around Rs. 410 crore through electoral bonds which is the 3rd largest donated amount.', '', '#ElectoralBondsScam', '21']\n"
     ]
    }
   ],
   "source": [
    "print(div_elements[0].text.split('\\n'))\n",
    "print(div_elements[1].text.split('\\n'))\n",
    "print(div_elements[2].text.split('\\n'))"
   ]
  },
  {
   "cell_type": "code",
   "execution_count": 25,
   "metadata": {},
   "outputs": [
    {
     "name": "stdout",
     "output_type": "stream",
     "text": [
      "['3m', '3h', '4h', 'Subscribe to Premium+ to go ad-free in For You.', '7h']\n",
      "[' Nice to know! I still want to see 15% of Purchases that are missing from the SBI/ECI list.  \"Reliance Industries company called Qwik Supply Chain Pvt Ltd, which was the third-largest donor.\"  @ndtv Quote Vamsi T Mohun @VamsiInIn · 6h BTW Don\\'t Adani and Ambani use the Electoral Bonds option to channel funds to Gujju Kim? What channel do they use? x.com/VamsiInIn/stat…', ' AMBANI & RELIANCE LINK FOUND  Reliance Industries (Qwik Supply Chain Pvt Ltd) donated around Rs. 410 crore through #ElectoralBond which is the 3rd largest donated amount.  #ModiHaiToMumkinHai   #ElectoralBondScam  Show more Quote Manish Singh @RebornManish · 16h धूर्त, बेईमान, झूठा, मक्कार, बेहूदा, नालायक, धोखेबाज, मुँहचोर, बेशर्म.. सूर्य प्रताप।   अभी टबइतने ही विशेषण!! बाकी सूची बनाकर और बताऊंगा।  ●● बहरहाल। Qwik Supply Chain Pvt. Ltd. का करीब 500 करोड़ का टर्नओवर है।इस कंपनी ने 410 करोड़ रुपये का चंदा दिया है।   2022 में इस कंपनी का… x.com/suryapsingh_IA…', ' Replying to  @SushantBSinha AMBANI AND RELIANCE LINK FOUND:  Reliance Industries (Qwik Supply Chain Pvt Ltd) donated around Rs. 410 crore through electoral bonds which is the 3rd largest donated amount.  #ElectoralBondsScam', ' Subscribe to X Premium+ From twitter.com 2.1K 1.4K 50K', \" Qwik supply chain pvt limited is part of reliance industries..its very clear that Ambani donated to the BJP through qwik supply pvt Ltd, but i am very sure that the amount of money reliance might have given to BJP as donations will be excessive of over several thousands crores. Quote Mohammed Zubair @zoo_bear · 9h A faulty product was delivered to a customer by Reliance Digital. The customer complained, He was asked to return it back to the address they mentioned. The customer returns the product to 'Qwik Supply Chain Pvt Ltd' and shares the acknowledgement.    Qwik Supply Chain Pvt Ltd… Show more\"]\n"
     ]
    }
   ],
   "source": [
    "# time = []\n",
    "# content = []\n",
    "\n",
    "def handle_index(string_list):\n",
    "    for index, string in enumerate(string_list):\n",
    "        if '@' in string:\n",
    "            return index\n",
    "    return None\n",
    "\n",
    "for i in div_elements:\n",
    "    # Extracting time data\n",
    "    twitter_text_split = i.text.split('\\n')\n",
    "    if(handle_index(twitter_text_split)!= None):\n",
    "        time_idx = handle_index(twitter_text_split)+2\n",
    "        time.append(twitter_text_split[time_idx])\n",
    "        content_str = ''\n",
    "        for j in twitter_text_split[time_idx+1:-1]:\n",
    "            content_str = content_str + \" \" + j\n",
    "        content.append(content_str)\n",
    "    else:\n",
    "        time.append(None)\n",
    "        content.append(None)\n",
    "    # dot_index = twitter_text_split.index('.')\n",
    "    # time.append(twitter_text_split[dot_index+1])\n",
    "    # matches = re.findall(r'@[\\w]+\\. (\\d+h)', twitter_text)\n",
    "\n",
    "print(time)\n",
    "print(content)\n",
    "# # Printing the extracted time data\n",
    "# print(\"Time data extracted:\")\n",
    "# for match in matches:\n",
    "#     print(match)"
   ]
  },
  {
   "cell_type": "code",
   "execution_count": 26,
   "metadata": {},
   "outputs": [
    {
     "data": {
      "text/html": [
       "<div>\n",
       "<style scoped>\n",
       "    .dataframe tbody tr th:only-of-type {\n",
       "        vertical-align: middle;\n",
       "    }\n",
       "\n",
       "    .dataframe tbody tr th {\n",
       "        vertical-align: top;\n",
       "    }\n",
       "\n",
       "    .dataframe thead th {\n",
       "        text-align: right;\n",
       "    }\n",
       "</style>\n",
       "<table border=\"1\" class=\"dataframe\">\n",
       "  <thead>\n",
       "    <tr style=\"text-align: right;\">\n",
       "      <th></th>\n",
       "      <th>Content</th>\n",
       "      <th>Time</th>\n",
       "    </tr>\n",
       "  </thead>\n",
       "  <tbody>\n",
       "    <tr>\n",
       "      <th>0</th>\n",
       "      <td>Nice to know! I still want to see 15% of Purc...</td>\n",
       "      <td>3m</td>\n",
       "    </tr>\n",
       "    <tr>\n",
       "      <th>1</th>\n",
       "      <td>AMBANI &amp; RELIANCE LINK FOUND  Reliance Indust...</td>\n",
       "      <td>3h</td>\n",
       "    </tr>\n",
       "    <tr>\n",
       "      <th>2</th>\n",
       "      <td>Replying to  @SushantBSinha AMBANI AND RELIAN...</td>\n",
       "      <td>4h</td>\n",
       "    </tr>\n",
       "    <tr>\n",
       "      <th>3</th>\n",
       "      <td>Subscribe to X Premium+ From twitter.com 2.1K...</td>\n",
       "      <td>Subscribe to Premium+ to go ad-free in For You.</td>\n",
       "    </tr>\n",
       "    <tr>\n",
       "      <th>4</th>\n",
       "      <td>Qwik supply chain pvt limited is part of reli...</td>\n",
       "      <td>7h</td>\n",
       "    </tr>\n",
       "  </tbody>\n",
       "</table>\n",
       "</div>"
      ],
      "text/plain": [
       "                                             Content  \\\n",
       "0   Nice to know! I still want to see 15% of Purc...   \n",
       "1   AMBANI & RELIANCE LINK FOUND  Reliance Indust...   \n",
       "2   Replying to  @SushantBSinha AMBANI AND RELIAN...   \n",
       "3   Subscribe to X Premium+ From twitter.com 2.1K...   \n",
       "4   Qwik supply chain pvt limited is part of reli...   \n",
       "\n",
       "                                              Time  \n",
       "0                                               3m  \n",
       "1                                               3h  \n",
       "2                                               4h  \n",
       "3  Subscribe to Premium+ to go ad-free in For You.  \n",
       "4                                               7h  "
      ]
     },
     "execution_count": 26,
     "metadata": {},
     "output_type": "execute_result"
    }
   ],
   "source": [
    "df = pd.DataFrame({'Content':content , 'Time':time})\n",
    "df"
   ]
  },
  {
   "cell_type": "code",
   "execution_count": null,
   "metadata": {},
   "outputs": [],
   "source": []
  }
 ],
 "metadata": {
  "kernelspec": {
   "display_name": "Python 3",
   "language": "python",
   "name": "python3"
  },
  "language_info": {
   "codemirror_mode": {
    "name": "ipython",
    "version": 3
   },
   "file_extension": ".py",
   "mimetype": "text/x-python",
   "name": "python",
   "nbconvert_exporter": "python",
   "pygments_lexer": "ipython3",
   "version": "3.11.7"
  }
 },
 "nbformat": 4,
 "nbformat_minor": 2
}
